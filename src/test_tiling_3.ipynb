{
 "cells": [
  {
   "cell_type": "code",
   "execution_count": 24,
   "id": "91fea526",
   "metadata": {},
   "outputs": [
    {
     "name": "stdout",
     "output_type": "stream",
     "text": [
      "1.3.1\n"
     ]
    }
   ],
   "source": [
    "OPENSLIDE_PATH = r\"C:\\Users\\MS\\openslide-bin-4.0.0.8-windows-x64\\bin\"\n",
    "\n",
    "import os\n",
    "\n",
    "if hasattr(os, \"add_dll_directory\"):\n",
    "    # Windows\n",
    "    with os.add_dll_directory(OPENSLIDE_PATH):\n",
    "        import openslide\n",
    "    print(openslide.__version__)\n",
    "else:\n",
    "    print(\"nope\")\n",
    "    import openslide"
   ]
  },
  {
   "cell_type": "code",
   "execution_count": 25,
   "id": "7e2309db",
   "metadata": {},
   "outputs": [],
   "source": [
    "import xml.etree.ElementTree as ET\n",
    "from asap_loader.annotation.objects.rectangle import Rectangle\n",
    "from asap_loader.annotation.objects.group import Group\n",
    "from pathlib import Path\n",
    "from os import listdir\n",
    "\n",
    "ROOT = \"C:\\\\Users\\\\MS\\\\Desktop\\\\IDEAS\\\\Projekty\\\\CD34\\\\Dane\\\\CD34_z_adnotacjami\"\n",
    "\n",
    "filenames = listdir(ROOT)\n",
    "filename = \"22_21450A1_7\"\n",
    "# filename = \"22_09617A1_7\"\n",
    "xml_path = Path(ROOT, f\"{filename}.xml\")\n",
    "\n",
    "tree = ET.parse(xml_path)\n",
    "root = tree.getroot()"
   ]
  },
  {
   "cell_type": "code",
   "execution_count": 44,
   "id": "b6955a1f",
   "metadata": {},
   "outputs": [
    {
     "name": "stdout",
     "output_type": "stream",
     "text": [
      "5\n"
     ]
    }
   ],
   "source": [
    "def get_annotation_groups(root):\n",
    "    # group_names = set()\n",
    "    groups = []\n",
    "\n",
    "    for child in root.find(\"./AnnotationGroups\"):\n",
    "        group_data = {}\n",
    "\n",
    "        # group_names.add(child.attrib[\"Name\"])\n",
    "        group_data[\"name\"] = child.attrib[\"Name\"]\n",
    "        group_data[\"color\"] = child.attrib[\"Color\"]\n",
    "        group_data[\"group\"] = (\n",
    "            None\n",
    "            if child.attrib[\"PartOfGroup\"] == \"None\"\n",
    "            else child.attrib[\"PartOfGroup\"]\n",
    "        )\n",
    "\n",
    "        group = Group(**group_data)\n",
    "        groups.append(group)\n",
    "\n",
    "    return groups\n",
    "\n",
    "annotation_groups = get_annotation_groups(root)\n",
    "print(len(annotation_groups))"
   ]
  },
  {
   "cell_type": "code",
   "execution_count": 55,
   "id": "cffb7541",
   "metadata": {},
   "outputs": [
    {
     "data": {
      "application/vnd.microsoft.datawrangler.viewer.v0+json": {
       "columns": [
        {
         "name": "index",
         "rawType": "int64",
         "type": "integer"
        },
        {
         "name": "Pliki",
         "rawType": "object",
         "type": "string"
        },
        {
         "name": "Typ komórki",
         "rawType": "object",
         "type": "string"
        },
        {
         "name": "Średnica Najdłuższej",
         "rawType": "float64",
         "type": "float"
        },
        {
         "name": "Średnica Najszerszej",
         "rawType": "float64",
         "type": "float"
        }
       ],
       "ref": "1dc64350-8850-4973-ae38-0b55a687a4ff",
       "rows": [
        [
         "0",
         "22_09617A1_7.xml",
         "Mieloblasty",
         "45.4",
         null
        ],
        [
         "1",
         "22_09617A1_7.xml",
         "Mieloblasty",
         "31.212",
         null
        ],
        [
         "2",
         "22_09617A1_7.xml",
         "Mieloblasty",
         "40.28",
         null
        ],
        [
         "3",
         "22_09617A1_7.xml",
         "Mieloblasty",
         "24.556",
         null
        ],
        [
         "4",
         "22_09617A1_7.xml",
         "Mieloblasty",
         "39.86",
         null
        ],
        [
         "5",
         "22_09617A1_7.xml",
         "Megakariocyty",
         null,
         null
        ],
        [
         "6",
         "22_09617A1_7.xml",
         "Megakariocyty",
         null,
         null
        ],
        [
         "7",
         "22_09617A1_7.xml",
         "Megakariocyty",
         null,
         null
        ],
        [
         "8",
         "22_09617A1_7.xml",
         "Megakariocyty",
         null,
         null
        ],
        [
         "9",
         "22_09617A1_7.xml",
         "Megakariocyty",
         null,
         null
        ],
        [
         "10",
         "22_09617A1_7.xml",
         "Komórki",
         "26.56",
         null
        ],
        [
         "11",
         "22_09617A1_7.xml",
         "Komórki",
         "22.148",
         null
        ],
        [
         "12",
         "22_09617A1_7.xml",
         "Komórki",
         "42.84",
         null
        ],
        [
         "13",
         "22_09617A1_7.xml",
         "Komórki",
         "27.484",
         null
        ],
        [
         "14",
         "22_09617A1_7.xml",
         "Komórki",
         "45.6",
         null
        ],
        [
         "15",
         "22_09617A1_7.xml",
         "Naczynia",
         "111.4",
         "14.152"
        ],
        [
         "16",
         "22_09617A1_7.xml",
         "Naczynia",
         "97.76",
         "22.72"
        ],
        [
         "17",
         "22_09617A1_7.xml",
         "Naczynia",
         "65.76",
         "48.0"
        ],
        [
         "18",
         "22_09617A1_7.xml",
         "Naczynia",
         "154.24",
         "53.24"
        ],
        [
         "19",
         "22_09617A1_7.xml",
         "Naczynia",
         "26.076",
         "7.66"
        ],
        [
         "20",
         "22_16541A1_7.xml",
         "Mieloblasty",
         "25.336",
         null
        ],
        [
         "21",
         "22_16541A1_7.xml",
         "Mieloblasty",
         "21.392",
         null
        ],
        [
         "22",
         "22_16541A1_7.xml",
         "Mieloblasty",
         "40.92",
         null
        ],
        [
         "23",
         "22_16541A1_7.xml",
         "Mieloblasty",
         "31.4",
         null
        ],
        [
         "24",
         "22_16541A1_7.xml",
         "Mieloblasty",
         "34.544",
         null
        ],
        [
         "25",
         "22_16541A1_7.xml",
         "Megakariocyty",
         null,
         null
        ],
        [
         "26",
         "22_16541A1_7.xml",
         "Megakariocyty",
         null,
         null
        ],
        [
         "27",
         "22_16541A1_7.xml",
         "Megakariocyty",
         null,
         null
        ],
        [
         "28",
         "22_16541A1_7.xml",
         "Megakariocyty",
         null,
         null
        ],
        [
         "29",
         "22_16541A1_7.xml",
         "Megakariocyty",
         null,
         null
        ],
        [
         "30",
         "22_16541A1_7.xml",
         "Komórki",
         "25.944",
         null
        ],
        [
         "31",
         "22_16541A1_7.xml",
         "Komórki",
         "24.704",
         null
        ],
        [
         "32",
         "22_16541A1_7.xml",
         "Komórki",
         "16.68",
         null
        ],
        [
         "33",
         "22_16541A1_7.xml",
         "Komórki",
         "36.136",
         null
        ],
        [
         "34",
         "22_16541A1_7.xml",
         "Komórki",
         "30.572",
         null
        ],
        [
         "35",
         "22_16541A1_7.xml",
         "Naczynia",
         "32.388",
         "24.232"
        ],
        [
         "36",
         "22_16541A1_7.xml",
         "Naczynia",
         "75.92",
         "25.84"
        ],
        [
         "37",
         "22_16541A1_7.xml",
         "Naczynia",
         "69.84",
         "16.56"
        ],
        [
         "38",
         "22_16541A1_7.xml",
         "Naczynia",
         "38.52",
         "18.828"
        ],
        [
         "39",
         "22_16541A1_7.xml",
         "Naczynia",
         "42.68",
         null
        ],
        [
         "40",
         "22_19269A1_7.xml",
         "Mieloblasty",
         "28.508",
         null
        ],
        [
         "41",
         "22_19269A1_7.xml",
         "Mieloblasty",
         "39.188",
         null
        ],
        [
         "42",
         "22_19269A1_7.xml",
         "Mieloblasty",
         "36.724",
         null
        ],
        [
         "43",
         "22_19269A1_7.xml",
         "Mieloblasty",
         "35.92",
         null
        ],
        [
         "44",
         "22_19269A1_7.xml",
         "Mieloblasty",
         "43.4",
         null
        ],
        [
         "45",
         "22_19269A1_7.xml",
         "Megakariocyty",
         "41.32",
         null
        ],
        [
         "46",
         "22_19269A1_7.xml",
         "Megakariocyty",
         "56.04",
         null
        ],
        [
         "47",
         "22_19269A1_7.xml",
         "Megakariocyty",
         "90.0",
         null
        ],
        [
         "48",
         "22_19269A1_7.xml",
         "Megakariocyty",
         "80.2",
         null
        ],
        [
         "49",
         "22_19269A1_7.xml",
         "Megakariocyty",
         "85.8",
         null
        ]
       ],
       "shape": {
        "columns": 4,
        "rows": 240
       }
      },
      "text/html": [
       "<div>\n",
       "<style scoped>\n",
       "    .dataframe tbody tr th:only-of-type {\n",
       "        vertical-align: middle;\n",
       "    }\n",
       "\n",
       "    .dataframe tbody tr th {\n",
       "        vertical-align: top;\n",
       "    }\n",
       "\n",
       "    .dataframe thead th {\n",
       "        text-align: right;\n",
       "    }\n",
       "</style>\n",
       "<table border=\"1\" class=\"dataframe\">\n",
       "  <thead>\n",
       "    <tr style=\"text-align: right;\">\n",
       "      <th></th>\n",
       "      <th>Pliki</th>\n",
       "      <th>Typ komórki</th>\n",
       "      <th>Średnica Najdłuższej</th>\n",
       "      <th>Średnica Najszerszej</th>\n",
       "    </tr>\n",
       "  </thead>\n",
       "  <tbody>\n",
       "    <tr>\n",
       "      <th>0</th>\n",
       "      <td>22_09617A1_7.xml</td>\n",
       "      <td>Mieloblasty</td>\n",
       "      <td>45.400</td>\n",
       "      <td>NaN</td>\n",
       "    </tr>\n",
       "    <tr>\n",
       "      <th>1</th>\n",
       "      <td>22_09617A1_7.xml</td>\n",
       "      <td>Mieloblasty</td>\n",
       "      <td>31.212</td>\n",
       "      <td>NaN</td>\n",
       "    </tr>\n",
       "    <tr>\n",
       "      <th>2</th>\n",
       "      <td>22_09617A1_7.xml</td>\n",
       "      <td>Mieloblasty</td>\n",
       "      <td>40.280</td>\n",
       "      <td>NaN</td>\n",
       "    </tr>\n",
       "    <tr>\n",
       "      <th>3</th>\n",
       "      <td>22_09617A1_7.xml</td>\n",
       "      <td>Mieloblasty</td>\n",
       "      <td>24.556</td>\n",
       "      <td>NaN</td>\n",
       "    </tr>\n",
       "    <tr>\n",
       "      <th>4</th>\n",
       "      <td>22_09617A1_7.xml</td>\n",
       "      <td>Mieloblasty</td>\n",
       "      <td>39.860</td>\n",
       "      <td>NaN</td>\n",
       "    </tr>\n",
       "    <tr>\n",
       "      <th>...</th>\n",
       "      <td>...</td>\n",
       "      <td>...</td>\n",
       "      <td>...</td>\n",
       "      <td>...</td>\n",
       "    </tr>\n",
       "    <tr>\n",
       "      <th>235</th>\n",
       "      <td>23_17699A1_7.xml</td>\n",
       "      <td>Naczynia</td>\n",
       "      <td>73.240</td>\n",
       "      <td>46.560</td>\n",
       "    </tr>\n",
       "    <tr>\n",
       "      <th>236</th>\n",
       "      <td>23_17699A1_7.xml</td>\n",
       "      <td>Naczynia</td>\n",
       "      <td>65.920</td>\n",
       "      <td>19.140</td>\n",
       "    </tr>\n",
       "    <tr>\n",
       "      <th>237</th>\n",
       "      <td>23_17699A1_7.xml</td>\n",
       "      <td>Naczynia</td>\n",
       "      <td>104.040</td>\n",
       "      <td>16.996</td>\n",
       "    </tr>\n",
       "    <tr>\n",
       "      <th>238</th>\n",
       "      <td>23_17699A1_7.xml</td>\n",
       "      <td>Naczynia</td>\n",
       "      <td>94.000</td>\n",
       "      <td>41.760</td>\n",
       "    </tr>\n",
       "    <tr>\n",
       "      <th>239</th>\n",
       "      <td>23_17699A1_7.xml</td>\n",
       "      <td>Naczynia</td>\n",
       "      <td>173.600</td>\n",
       "      <td>31.036</td>\n",
       "    </tr>\n",
       "  </tbody>\n",
       "</table>\n",
       "<p>240 rows × 4 columns</p>\n",
       "</div>"
      ],
      "text/plain": [
       "                Pliki  Typ komórki  Średnica Najdłuższej  Średnica Najszerszej\n",
       "0    22_09617A1_7.xml  Mieloblasty                45.400                   NaN\n",
       "1    22_09617A1_7.xml  Mieloblasty                31.212                   NaN\n",
       "2    22_09617A1_7.xml  Mieloblasty                40.280                   NaN\n",
       "3    22_09617A1_7.xml  Mieloblasty                24.556                   NaN\n",
       "4    22_09617A1_7.xml  Mieloblasty                39.860                   NaN\n",
       "..                ...          ...                   ...                   ...\n",
       "235  23_17699A1_7.xml     Naczynia                73.240                46.560\n",
       "236  23_17699A1_7.xml     Naczynia                65.920                19.140\n",
       "237  23_17699A1_7.xml     Naczynia               104.040                16.996\n",
       "238  23_17699A1_7.xml     Naczynia                94.000                41.760\n",
       "239  23_17699A1_7.xml     Naczynia               173.600                31.036\n",
       "\n",
       "[240 rows x 4 columns]"
      ]
     },
     "execution_count": 55,
     "metadata": {},
     "output_type": "execute_result"
    }
   ],
   "source": [
    "import pandas as pd\n",
    "\n",
    "df = pd.read_excel(\"..\\data\\średnice_new.xlsx\")\n",
    "df[\"Średnica Najdłuższej\"] = df[\"Średnica Najdłuższej\"] / 0.25\n",
    "df[\"Średnica Najszerszej\"] = df[\"Średnica Najszerszej\"] / 0.25\n",
    "\n",
    "df"
   ]
  },
  {
   "cell_type": "code",
   "execution_count": 56,
   "id": "e4ff7217",
   "metadata": {},
   "outputs": [
    {
     "data": {
      "image/png": "[encoded data removed]",
      "text/plain": [
       "<Figure size 1000x1000 with 4 Axes>"
      ]
     },
     "metadata": {},
     "output_type": "display_data"
    }
   ],
   "source": [
    "import matplotlib.pyplot as plt\n",
    "\n",
    "groups = df[[\"Typ komórki\", \"Średnica Najdłuższej\", \"Średnica Najszerszej\"]].groupby(\n",
    "    \"Typ komórki\"\n",
    ")\n",
    "\n",
    "\n",
    "fig, axes = plt.subplots(nrows=2, ncols=2, figsize=(10, 5 * 2))\n",
    "axes = axes.flatten()\n",
    "\n",
    "for ax, (name, group) in zip(axes, groups):\n",
    "    group[[\"Średnica Najdłuższej\", \"Średnica Najszerszej\"]].plot.hist(\n",
    "        bins=12, alpha=0.85, ax=ax\n",
    "    )\n",
    "    ax.set_title(str(name))\n",
    "    # ax.set_xticklabels([f\"{tick*0.25:.2f}\" for tick in ax.get_xticks()])\n",
    "\n",
    "\n",
    "plt.tight_layout()\n",
    "plt.show()"
   ]
  },
  {
   "cell_type": "code",
   "execution_count": 57,
   "id": "fd67e119",
   "metadata": {},
   "outputs": [
    {
     "data": {
      "application/vnd.microsoft.datawrangler.viewer.v0+json": {
       "columns": [
        {
         "name": "Typ komórki",
         "rawType": "object",
         "type": "string"
        },
        {
         "name": "mean",
         "rawType": "float64",
         "type": "float"
        },
        {
         "name": "min",
         "rawType": "float64",
         "type": "float"
        },
        {
         "name": "max",
         "rawType": "float64",
         "type": "float"
        },
        {
         "name": "q75",
         "rawType": "float64",
         "type": "float"
        },
        {
         "name": "mean2",
         "rawType": "float64",
         "type": "float"
        },
        {
         "name": "min2",
         "rawType": "float64",
         "type": "float"
        },
        {
         "name": "max2",
         "rawType": "float64",
         "type": "float"
        },
        {
         "name": "q75_2",
         "rawType": "float64",
         "type": "float"
        }
       ],
       "ref": "1cd89435-519f-4245-a6e3-c21dccd7a1ca",
       "rows": [
        [
         "Komórki",
         "33.790057142857144",
         "16.68",
         "58.52",
         "44.1",
         null,
         null,
         null,
         null
        ],
        [
         "Megakariocyty",
         "70.79496296296296",
         "30.0",
         "107.2",
         "85.75999999999999",
         null,
         null,
         null,
         null
        ],
        [
         "Mieloblasty",
         "40.1038",
         "11.1",
         "64.36",
         "49.08",
         null,
         null,
         null,
         null
        ],
        [
         "Naczynia",
         "150.0514",
         "26.076",
         "922.0",
         "168.79999999999998",
         "46.234237288135596",
         "7.28",
         "664.4",
         "45.82"
        ]
       ],
       "shape": {
        "columns": 8,
        "rows": 4
       }
      },
      "text/html": [
       "<div>\n",
       "<style scoped>\n",
       "    .dataframe tbody tr th:only-of-type {\n",
       "        vertical-align: middle;\n",
       "    }\n",
       "\n",
       "    .dataframe tbody tr th {\n",
       "        vertical-align: top;\n",
       "    }\n",
       "\n",
       "    .dataframe thead th {\n",
       "        text-align: right;\n",
       "    }\n",
       "</style>\n",
       "<table border=\"1\" class=\"dataframe\">\n",
       "  <thead>\n",
       "    <tr style=\"text-align: right;\">\n",
       "      <th></th>\n",
       "      <th>mean</th>\n",
       "      <th>min</th>\n",
       "      <th>max</th>\n",
       "      <th>q75</th>\n",
       "      <th>mean2</th>\n",
       "      <th>min2</th>\n",
       "      <th>max2</th>\n",
       "      <th>q75_2</th>\n",
       "    </tr>\n",
       "    <tr>\n",
       "      <th>Typ komórki</th>\n",
       "      <th></th>\n",
       "      <th></th>\n",
       "      <th></th>\n",
       "      <th></th>\n",
       "      <th></th>\n",
       "      <th></th>\n",
       "      <th></th>\n",
       "      <th></th>\n",
       "    </tr>\n",
       "  </thead>\n",
       "  <tbody>\n",
       "    <tr>\n",
       "      <th>Komórki</th>\n",
       "      <td>33.790057</td>\n",
       "      <td>16.680</td>\n",
       "      <td>58.52</td>\n",
       "      <td>44.10</td>\n",
       "      <td>NaN</td>\n",
       "      <td>NaN</td>\n",
       "      <td>NaN</td>\n",
       "      <td>NaN</td>\n",
       "    </tr>\n",
       "    <tr>\n",
       "      <th>Megakariocyty</th>\n",
       "      <td>70.794963</td>\n",
       "      <td>30.000</td>\n",
       "      <td>107.20</td>\n",
       "      <td>85.76</td>\n",
       "      <td>NaN</td>\n",
       "      <td>NaN</td>\n",
       "      <td>NaN</td>\n",
       "      <td>NaN</td>\n",
       "    </tr>\n",
       "    <tr>\n",
       "      <th>Mieloblasty</th>\n",
       "      <td>40.103800</td>\n",
       "      <td>11.100</td>\n",
       "      <td>64.36</td>\n",
       "      <td>49.08</td>\n",
       "      <td>NaN</td>\n",
       "      <td>NaN</td>\n",
       "      <td>NaN</td>\n",
       "      <td>NaN</td>\n",
       "    </tr>\n",
       "    <tr>\n",
       "      <th>Naczynia</th>\n",
       "      <td>150.051400</td>\n",
       "      <td>26.076</td>\n",
       "      <td>922.00</td>\n",
       "      <td>168.80</td>\n",
       "      <td>46.234237</td>\n",
       "      <td>7.28</td>\n",
       "      <td>664.4</td>\n",
       "      <td>45.82</td>\n",
       "    </tr>\n",
       "  </tbody>\n",
       "</table>\n",
       "</div>"
      ],
      "text/plain": [
       "                     mean     min     max     q75      mean2  min2   max2  \\\n",
       "Typ komórki                                                                 \n",
       "Komórki         33.790057  16.680   58.52   44.10        NaN   NaN    NaN   \n",
       "Megakariocyty   70.794963  30.000  107.20   85.76        NaN   NaN    NaN   \n",
       "Mieloblasty     40.103800  11.100   64.36   49.08        NaN   NaN    NaN   \n",
       "Naczynia       150.051400  26.076  922.00  168.80  46.234237  7.28  664.4   \n",
       "\n",
       "               q75_2  \n",
       "Typ komórki           \n",
       "Komórki          NaN  \n",
       "Megakariocyty    NaN  \n",
       "Mieloblasty      NaN  \n",
       "Naczynia       45.82  "
      ]
     },
     "execution_count": 57,
     "metadata": {},
     "output_type": "execute_result"
    }
   ],
   "source": [
    "stats = df.groupby(\"Typ komórki\")[[\"Średnica Najdłuższej\", \"Średnica Najszerszej\"]].agg(\n",
    "    mean=(\"Średnica Najdłuższej\", \"mean\"),\n",
    "    min=(\"Średnica Najdłuższej\", \"min\"),\n",
    "    max=(\"Średnica Najdłuższej\", \"max\"),\n",
    "    q75=(\"Średnica Najdłuższej\", lambda x: x.quantile(0.75)),\n",
    "    mean2=(\"Średnica Najszerszej\", \"mean\"),\n",
    "    min2=(\"Średnica Najszerszej\", \"min\"),\n",
    "    max2=(\"Średnica Najszerszej\", \"max\"),\n",
    "    q75_2=(\"Średnica Najszerszej\", lambda x: x.quantile(0.75)),\n",
    ")\n",
    "\n",
    "stats"
   ]
  },
  {
   "cell_type": "code",
   "execution_count": 40,
   "id": "2bc58dab",
   "metadata": {},
   "outputs": [
    {
     "data": {
      "application/vnd.microsoft.datawrangler.viewer.v0+json": {
       "columns": [
        {
         "name": "Typ komórki",
         "rawType": "object",
         "type": "string"
        },
        {
         "name": "Średnica Najdłuższej_mean",
         "rawType": "float64",
         "type": "float"
        },
        {
         "name": "Średnica Najdłuższej_min",
         "rawType": "float64",
         "type": "float"
        },
        {
         "name": "Średnica Najdłuższej_max",
         "rawType": "float64",
         "type": "float"
        },
        {
         "name": "Średnica Najdłuższej_q75",
         "rawType": "float64",
         "type": "float"
        },
        {
         "name": "Średnica Najszerszej_mean",
         "rawType": "float64",
         "type": "float"
        },
        {
         "name": "Średnica Najszerszej_min",
         "rawType": "float64",
         "type": "float"
        },
        {
         "name": "Średnica Najszerszej_max",
         "rawType": "float64",
         "type": "float"
        },
        {
         "name": "Średnica Najszerszej_q75",
         "rawType": "float64",
         "type": "float"
        }
       ],
       "ref": "fd433e20-219d-419d-bfc2-043d9a532f8f",
       "rows": [
        [
         "Komórki",
         "8.13124",
         "4.17",
         "12.67",
         "10.719",
         null,
         null,
         null,
         null
        ],
        [
         "Megakariocyty",
         "18.728333333333335",
         "10.33",
         "26.8",
         "21.7125",
         null,
         null,
         null,
         null
        ],
        [
         "Mieloblasty",
         "10.02595",
         "2.775",
         "16.09",
         "12.27",
         null,
         null,
         null,
         null
        ],
        [
         "Naczynia",
         "37.51285",
         "6.519",
         "230.5",
         "42.199999999999996",
         "11.558559322033899",
         "1.82",
         "166.1",
         "11.455"
        ]
       ],
       "shape": {
        "columns": 8,
        "rows": 4
       }
      },
      "text/html": [
       "<div>\n",
       "<style scoped>\n",
       "    .dataframe tbody tr th:only-of-type {\n",
       "        vertical-align: middle;\n",
       "    }\n",
       "\n",
       "    .dataframe tbody tr th {\n",
       "        vertical-align: top;\n",
       "    }\n",
       "\n",
       "    .dataframe thead th {\n",
       "        text-align: right;\n",
       "    }\n",
       "</style>\n",
       "<table border=\"1\" class=\"dataframe\">\n",
       "  <thead>\n",
       "    <tr style=\"text-align: right;\">\n",
       "      <th></th>\n",
       "      <th>Średnica Najdłuższej_mean</th>\n",
       "      <th>Średnica Najdłuższej_min</th>\n",
       "      <th>Średnica Najdłuższej_max</th>\n",
       "      <th>Średnica Najdłuższej_q75</th>\n",
       "      <th>Średnica Najszerszej_mean</th>\n",
       "      <th>Średnica Najszerszej_min</th>\n",
       "      <th>Średnica Najszerszej_max</th>\n",
       "      <th>Średnica Najszerszej_q75</th>\n",
       "    </tr>\n",
       "    <tr>\n",
       "      <th>Typ komórki</th>\n",
       "      <th></th>\n",
       "      <th></th>\n",
       "      <th></th>\n",
       "      <th></th>\n",
       "      <th></th>\n",
       "      <th></th>\n",
       "      <th></th>\n",
       "      <th></th>\n",
       "    </tr>\n",
       "  </thead>\n",
       "  <tbody>\n",
       "    <tr>\n",
       "      <th>Komórki</th>\n",
       "      <td>8.131240</td>\n",
       "      <td>4.170</td>\n",
       "      <td>12.67</td>\n",
       "      <td>10.7190</td>\n",
       "      <td>NaN</td>\n",
       "      <td>NaN</td>\n",
       "      <td>NaN</td>\n",
       "      <td>NaN</td>\n",
       "    </tr>\n",
       "    <tr>\n",
       "      <th>Megakariocyty</th>\n",
       "      <td>18.728333</td>\n",
       "      <td>10.330</td>\n",
       "      <td>26.80</td>\n",
       "      <td>21.7125</td>\n",
       "      <td>NaN</td>\n",
       "      <td>NaN</td>\n",
       "      <td>NaN</td>\n",
       "      <td>NaN</td>\n",
       "    </tr>\n",
       "    <tr>\n",
       "      <th>Mieloblasty</th>\n",
       "      <td>10.025950</td>\n",
       "      <td>2.775</td>\n",
       "      <td>16.09</td>\n",
       "      <td>12.2700</td>\n",
       "      <td>NaN</td>\n",
       "      <td>NaN</td>\n",
       "      <td>NaN</td>\n",
       "      <td>NaN</td>\n",
       "    </tr>\n",
       "    <tr>\n",
       "      <th>Naczynia</th>\n",
       "      <td>37.512850</td>\n",
       "      <td>6.519</td>\n",
       "      <td>230.50</td>\n",
       "      <td>42.2000</td>\n",
       "      <td>11.558559</td>\n",
       "      <td>1.82</td>\n",
       "      <td>166.1</td>\n",
       "      <td>11.455</td>\n",
       "    </tr>\n",
       "  </tbody>\n",
       "</table>\n",
       "</div>"
      ],
      "text/plain": [
       "               Średnica Najdłuższej_mean  Średnica Najdłuższej_min  \\\n",
       "Typ komórki                                                          \n",
       "Komórki                         8.131240                     4.170   \n",
       "Megakariocyty                  18.728333                    10.330   \n",
       "Mieloblasty                    10.025950                     2.775   \n",
       "Naczynia                       37.512850                     6.519   \n",
       "\n",
       "               Średnica Najdłuższej_max  Średnica Najdłuższej_q75  \\\n",
       "Typ komórki                                                         \n",
       "Komórki                           12.67                   10.7190   \n",
       "Megakariocyty                     26.80                   21.7125   \n",
       "Mieloblasty                       16.09                   12.2700   \n",
       "Naczynia                         230.50                   42.2000   \n",
       "\n",
       "               Średnica Najszerszej_mean  Średnica Najszerszej_min  \\\n",
       "Typ komórki                                                          \n",
       "Komórki                              NaN                       NaN   \n",
       "Megakariocyty                        NaN                       NaN   \n",
       "Mieloblasty                          NaN                       NaN   \n",
       "Naczynia                       11.558559                      1.82   \n",
       "\n",
       "               Średnica Najszerszej_max  Średnica Najszerszej_q75  \n",
       "Typ komórki                                                        \n",
       "Komórki                             NaN                       NaN  \n",
       "Megakariocyty                       NaN                       NaN  \n",
       "Mieloblasty                         NaN                       NaN  \n",
       "Naczynia                          166.1                    11.455  "
      ]
     },
     "execution_count": 40,
     "metadata": {},
     "output_type": "execute_result"
    }
   ],
   "source": [
    "stats = df.groupby(\"Typ komórki\")[[\"Średnica Najdłuższej\", \"Średnica Najszerszej\"]].agg(\n",
    "    [\"mean\", \"min\", \"max\", lambda x: x.quantile(0.75)]\n",
    ")\n",
    "\n",
    "# print(stats.columns)\n",
    "stats.columns = [\n",
    "    f\"{col}_{'q75' if stat=='<lambda_0>' else stat}\" for col, stat in stats.columns\n",
    "]\n",
    "\n",
    "stats"
   ]
  },
  {
   "cell_type": "code",
   "execution_count": 47,
   "id": "d75cb783",
   "metadata": {},
   "outputs": [
    {
     "name": "stdout",
     "output_type": "stream",
     "text": [
      "[Group(name='Mieloblasty', color='#00aa00', group=None, members=[]), Group(name='Megakariocyty', color='#ff0000', group=None, members=[]), Group(name='Naczynia', color='#0055ff', group=None, members=[]), Group(name='Obszary', color='#ffaa00', group=None, members=[]), Group(name='Artefakty', color='#ff00ff', group=None, members=[])]\n",
      "{'Mieloblasty': Group(name='Mieloblasty', color='#00aa00', group=None, members=[]), 'Megakariocyty': Group(name='Megakariocyty', color='#ff0000', group=None, members=[]), 'Naczynia': Group(name='Naczynia', color='#0055ff', group=None, members=[]), 'Obszary': Group(name='Obszary', color='#ffaa00', group=None, members=[]), 'Artefakty': Group(name='Artefakty', color='#ff00ff', group=None, members=[])}\n",
      "Rectangle: (26937.79105, 106045.2855)\n",
      "Spline: (27338.14115668533, 105862.61630288431)\n",
      "Spline: (27053.721237369406, 105809.42675167433)\n",
      "Spline: (27433.704706320554, 105738.68370576184)\n",
      "Spline: (26965.398879815006, 106308.74969115386)\n",
      "Spline: (27199.423608074245, 105818.50780863265)\n",
      "Spline: (26714.07054932155, 106133.5970346963)\n",
      "Spline: (26859.395734675487, 106369.13589704015)\n",
      "Rectangle: (28138.692349999998, 106036.129)\n",
      "Spline: (28027.64228472951, 106102.93603740366)\n",
      "Spline: (27935.841999966564, 106052.02605707722)\n",
      "Spline: (27935.638360798363, 106139.41556385314)\n",
      "Spline: (27973.464673100865, 106217.77524961982)\n",
      "Spline: (27962.39695115794, 105694.91346391254)\n",
      "Spline: (27711.565844307515, 105924.21698889846)\n",
      "Spline: (28347.867406675065, 106254.29706249552)\n",
      "Spline: (28293.809093761367, 105746.76225864305)\n",
      "Spline: (28476.487949016544, 105996.77318530277)\n",
      "Spline: (28579.59157728959, 105935.47222882671)\n",
      "Spline: (27826.208894174226, 106309.77447938846)\n",
      "Spline: (28353.132334407182, 105883.93157319208)\n",
      "Spline: (28416.12756008002, 105913.08139680867)\n",
      "Rectangle: (34510.95895, 98756.67965)\n",
      "Spline: (34335.74339933678, 98365.38171003811)\n",
      "Spline: (33864.98423020139, 98725.5615056965)\n",
      "Spline: (33990.67763249029, 98848.1036979646)\n",
      "Spline: (33937.29324562053, 98656.3459113982)\n",
      "Spline: (34049.810858054756, 98365.3261357966)\n",
      "Spline: (33703.081437565, 98438.55880065724)\n",
      "Spline: (33658.63693430688, 98441.14540583914)\n",
      "Spline: (33732.11254702232, 99243.12611301232)\n",
      "Spline: (33716.254772272085, 99176.54352663395)\n",
      "Rectangle: (24136.03905, 104914.121)\n",
      "Spline: (24204.843736309165, 104895.10249769119)\n",
      "Spline: (24319.464131146764, 104707.79621362608)\n",
      "Spline: (24129.094275778105, 105199.34486236681)\n",
      "Spline: (24154.93212362378, 104749.88476466402)\n",
      "Rectangle: (27039.5, 104408.5665)\n",
      "Spline: (26908.305416570423, 104464.76071843783)\n",
      "Spline: (26948.653656829287, 104466.79942826604)\n",
      "Rectangle: (40775.19725, 95262.09375)\n",
      "Spline: (40615.01648208777, 95030.98090706777)\n",
      "Spline: (40719.161952611736, 95554.59182585841)\n",
      "Spline: (40855.41878401208, 95142.29468615526)\n",
      "Spline: (41074.065831052336, 95149.67927472189)\n",
      "Spline: (40510.72615917847, 95323.07231158768)\n",
      "Spline: (40617.9530295473, 95321.01812671476)\n",
      "Spline: (40933.786751451495, 95532.54647367877)\n",
      "Spline: (41024.96980468671, 95512.46026220429)\n",
      "Spline: (40795.98191790071, 95319.60760968052)\n",
      "Spline: (40840.604968825326, 95235.3137709069)\n",
      "Rectangle: (35959.5703, 95225.52345000001)\n",
      "Spline: (35941.0726754103, 95426.65845530435)\n",
      "Spline: (35804.09689164999, 95192.60464259321)\n",
      "Spline: (36004.59203242323, 95021.93260238894)\n",
      "Spline: (36239.30043632949, 95104.62073871265)\n",
      "Rectangle: (37324.69725, 94720.72654999999)\n",
      "PointSet: (37508.82072253155, 94493.29408134939)\n",
      "PointSet: (37455.719991975355, 94886.96498738881)\n",
      "PointSet: (37676.79705829031, 94670.54785948896)\n",
      "PointSet: (37525.53970869282, 94624.08735871027)\n",
      "PointSet: (37536.41355438144, 94678.67865331497)\n",
      "Spline: (37065.461669696626, 94657.3055083593)\n",
      "Spline: (37294.47313942689, 94953.20101834527)\n",
      "Rectangle: (37309.472649999996, 97757.77735)\n",
      "PointSet: (37280.73676346013, 97684.48285248871)\n",
      "PointSet: (37599.09914079103, 97670.96735262733)\n",
      "PointSet: (37226.33959656076, 97979.02256812359)\n",
      "Spline: (37114.21076383196, 97758.98835881735)\n",
      "PointSet: (37372.73506937234, 97463.37282348318)\n",
      "PointSet: (37389.38021774541, 97988.00265586493)\n",
      "Rectangle: (38141.222649999996, 100189.9064)\n",
      "Spline: (38102.667029838914, 100272.13416460823)\n",
      "Spline: (38356.60144880915, 100219.01829932467)\n",
      "Spline: (37742.74500428879, 100507.13034313479)\n"
     ]
    }
   ],
   "source": [
    "from asap_loader.annotation.objects.rectangle import Rectangle\n",
    "from asap_loader.annotation.objects.polygon import Polygon\n",
    "from asap_loader.annotation.objects.point import Point\n",
    "\n",
    "print(annotation_groups)\n",
    "group_dict = {gr.name: gr for gr in annotation_groups}\n",
    "print(group_dict)\n",
    "\n",
    "\n",
    "for annotation in root.find(\"./Annotations\"):\n",
    "    if annotation.attrib[\"Type\"] == \"Dot\":\n",
    "        coord = annotation.find(\"./Coordinates/Coordinate\")\n",
    "        point = Point(\n",
    "            group=group_dict[annotation.attrib[\"PartOfGroup\"]],\n",
    "            name=annotation.attrib[\"Name\"],\n",
    "            color=annotation.attrib[\"Color\"],\n",
    "            x=float(coord.attrib[\"X\"]),\n",
    "            y=float(coord.attrib[\"Y\"]),\n",
    "        )\n",
    "        # print(f\"dot: {point}\")\n",
    "\n",
    "    elif annotation.attrib[\"Type\"] in (\"Polygon\", \"Spline\", \"PointSet\"):\n",
    "        coords = annotation.findall(\"./Coordinates/Coordinate\")\n",
    "\n",
    "        # for coord in coords\n",
    "        vertices = [\n",
    "            (float(coord.attrib[\"X\"]), float(coord.attrib[\"Y\"])) for coord in coords\n",
    "        ]\n",
    "        polygon = Polygon(\n",
    "            group=group_dict[annotation.attrib[\"PartOfGroup\"]],\n",
    "            name=annotation.attrib[\"Name\"],\n",
    "            color=annotation.attrib[\"Color\"],\n",
    "            verticies=vertices,\n",
    "        )\n",
    "        print(f\"{annotation.attrib['Type']}: {polygon.centeroid()}\")\n",
    "\n",
    "    elif annotation.attrib[\"Type\"] == \"Rectangle\":\n",
    "        coords = annotation.findall(\"./Coordinates/Coordinate\")\n",
    "        \n",
    "        vertices = [\n",
    "            (float(coord.attrib[\"X\"]), float(coord.attrib[\"Y\"])) for coord in coords\n",
    "        ]\n",
    "        xs, ys = zip(*vertices)\n",
    "\n",
    "        rect = Rectangle(\n",
    "            group=group_dict[annotation.attrib[\"PartOfGroup\"]],\n",
    "            name=annotation.attrib[\"Name\"],\n",
    "            color=annotation.attrib[\"Color\"],\n",
    "            x_max=max(xs),\n",
    "            x_min=min(xs),\n",
    "            y_max=max(ys),\n",
    "            y_min=min(ys)\n",
    "        )\n",
    "        print(f\"Rectangle: {rect.centeroid()}\")\n",
    "\n",
    "    else:\n",
    "        assert False"
   ]
  },
  {
   "cell_type": "code",
   "execution_count": null,
   "id": "a9ee1741",
   "metadata": {},
   "outputs": [
    {
     "ename": "NameError",
     "evalue": "name 'group_dict' is not defined",
     "output_type": "error",
     "traceback": [
      "\u001b[1;31m---------------------------------------------------------------------------\u001b[0m",
      "\u001b[1;31mNameError\u001b[0m                                 Traceback (most recent call last)",
      "Cell \u001b[1;32mIn[11], line 1\u001b[0m\n\u001b[1;32m----> 1\u001b[0m \u001b[38;5;28mprint\u001b[39m(\u001b[38;5;28mlen\u001b[39m(\u001b[43mgroup_dict\u001b[49m[\u001b[38;5;124m\"\u001b[39m\u001b[38;5;124mNaczynia\u001b[39m\u001b[38;5;124m\"\u001b[39m]\u001b[38;5;241m.\u001b[39mmembers))\n\u001b[0;32m      2\u001b[0m \u001b[38;5;28;01mfor\u001b[39;00m i, poly \u001b[38;5;129;01min\u001b[39;00m \u001b[38;5;28menumerate\u001b[39m(group_dict[\u001b[38;5;124m\"\u001b[39m\u001b[38;5;124mMieloblasty\u001b[39m\u001b[38;5;124m\"\u001b[39m]\u001b[38;5;241m.\u001b[39mmembers):\n\u001b[0;32m      3\u001b[0m     \u001b[38;5;28mprint\u001b[39m(i, poly)\n",
      "\u001b[1;31mNameError\u001b[0m: name 'group_dict' is not defined"
     ]
    }
   ],
   "source": [
    "print(len(group_dict[\"Naczynia\"].members))\n",
    "for i, poly in enumerate(group_dict[\"Mieloblasty\"].members):\n",
    "    print(i, poly)"
   ]
  }
 ],
 "metadata": {
  "kernelspec": {
   "display_name": "slide_tiling-0.1.0",
   "language": "python",
   "name": "python3"
  },
  "language_info": {
   "codemirror_mode": {
    "name": "ipython",
    "version": 3
   },
   "file_extension": ".py",
   "mimetype": "text/x-python",
   "name": "python",
   "nbconvert_exporter": "python",
   "pygments_lexer": "ipython3",
   "version": "3.10.18"
  }
 },
 "nbformat": 4,
 "nbformat_minor": 5
}
