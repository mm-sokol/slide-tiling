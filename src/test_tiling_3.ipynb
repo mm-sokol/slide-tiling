{
 "cells": [
  {
   "cell_type": "code",
   "execution_count": 1,
   "id": "91fea526",
   "metadata": {},
   "outputs": [
    {
     "name": "stdout",
     "output_type": "stream",
     "text": [
      "1.3.1\n"
     ]
    }
   ],
   "source": [
    "OPENSLIDE_PATH = r\"C:\\Users\\MS\\openslide-bin-4.0.0.8-windows-x64\\bin\"\n",
    "\n",
    "import os\n",
    "\n",
    "if hasattr(os, \"add_dll_directory\"):\n",
    "    # Windows\n",
    "    with os.add_dll_directory(OPENSLIDE_PATH):\n",
    "        import openslide\n",
    "    print(openslide.__version__)\n",
    "else:\n",
    "    print(\"nope\")\n",
    "    import openslide"
   ]
  },
  {
   "cell_type": "code",
   "execution_count": 2,
   "id": "7e2309db",
   "metadata": {},
   "outputs": [],
   "source": [
    "import xml.etree.ElementTree as ET\n",
    "from asap_loader.annotation.objects.rectangle import Rectangle\n",
    "from asap_loader.annotation.objects.group import Group\n",
    "from pathlib import Path\n",
    "from os import listdir\n",
    "\n",
    "ROOT = \"C:\\\\Users\\\\MS\\\\Desktop\\\\IDEAS\\\\Projekty\\\\CD34\\\\Dane\\\\CD34_z_adnotacjami\"\n",
    "\n",
    "filenames = listdir(ROOT)\n",
    "filename = \"22_21450A1_7\"\n",
    "xml_path = Path(ROOT, f\"{filename}.xml\")\n",
    "\n",
    "tree = ET.parse(xml_path)\n",
    "root = tree.getroot()"
   ]
  },
  {
   "cell_type": "code",
   "execution_count": 13,
   "id": "b6955a1f",
   "metadata": {},
   "outputs": [
    {
     "name": "stdout",
     "output_type": "stream",
     "text": [
      "5\n"
     ]
    }
   ],
   "source": [
    "def get_annotation_groups(root):\n",
    "    # group_names = set()\n",
    "    groups = []\n",
    "\n",
    "    for child in root.find(\"./AnnotationGroups\"):\n",
    "        group_data = {}\n",
    "\n",
    "        # group_names.add(child.attrib[\"Name\"])\n",
    "        group_data[\"name\"] = child.attrib[\"Name\"]\n",
    "        group_data[\"color\"] = child.attrib[\"Color\"]\n",
    "        group_data[\"group\"] = (\n",
    "            None\n",
    "            if child.attrib[\"PartOfGroup\"] == \"None\"\n",
    "            else child.attrib[\"PartOfGroup\"]\n",
    "        )\n",
    "\n",
    "        group = Group(**group_data)\n",
    "        groups.append(group)\n",
    "\n",
    "    return groups\n",
    "\n",
    "groups = get_annotation_groups(root)\n",
    "print(len(groups))"
   ]
  },
  {
   "cell_type": "code",
   "execution_count": null,
   "id": "d75cb783",
   "metadata": {},
   "outputs": [
    {
     "name": "stdout",
     "output_type": "stream",
     "text": [
      "{'Mieloblasty', 'Obszary', 'Artefakty', 'Naczynia', 'Megakariocyty'}\n"
     ]
    }
   ],
   "source": [
    "group_names = set(gr.name for gr in groups)\n",
    "print(group_names)\n",
    "\n",
    "for annotation in root.find(\"./Annotations\"):\n",
    "\n",
    "    annotation.attrib[\"Name\"] == \"\""
   ]
  }
 ],
 "metadata": {
  "kernelspec": {
   "display_name": "slide_tiling-0.1.0",
   "language": "python",
   "name": "python3"
  },
  "language_info": {
   "codemirror_mode": {
    "name": "ipython",
    "version": 3
   },
   "file_extension": ".py",
   "mimetype": "text/x-python",
   "name": "python",
   "nbconvert_exporter": "python",
   "pygments_lexer": "ipython3",
   "version": "3.10.18"
  }
 },
 "nbformat": 4,
 "nbformat_minor": 5
}
