{
 "cells": [
  {
   "cell_type": "code",
   "execution_count": null,
   "id": "08c738c2",
   "metadata": {},
   "outputs": [],
   "source": [
    "!uv pip install torchvision\n"
   ]
  },
  {
   "cell_type": "code",
   "execution_count": null,
   "id": "08643b3f",
   "metadata": {},
   "outputs": [],
   "source": [
    "from torchvision.io import read_image, ImageReadMode\n",
    "from pathlib import Path\n",
    "import pandas as pd\n",
    "from torchvision.ops import box_convert\n",
    "import torch\n",
    "\n",
    "img_name = \"21_09830A1_19_ROI_0_0_3\"\n",
    "IMG_DIR = r\"C:\\Users\\MS\\Desktop\\IDEAS\\Projekty\\CD34\\Dane\\CD34_tiles_yolo\\images_całe_160x160\"\n",
    "yolo_path = Path(r\"c:\\Users\\MS\\Desktop\\IDEAS\\Projekty\\CD34\\Dane\\CD34_tiles_yolo\\labels_pełne\", f\"{img_name}.txt\")\n",
    "\n",
    "path = Path(IMG_DIR, f\"{img_name}.jpg\")\n",
    "\n",
    "image = read_image(path, ImageReadMode.RGB)\n",
    "\n",
    "boxes = torch.tensor(pd.read_csv(yolo_path, sep=\" \", header=None).to_numpy()[:,1:]) * 160\n",
    "boxes = box_convert(boxes, \"cxcywh\", \"xyxy\") "
   ]
  },
  {
   "cell_type": "code",
   "execution_count": null,
   "id": "885ed82e",
   "metadata": {},
   "outputs": [],
   "source": [
    "from torchvision.utils import draw_bounding_boxes\n",
    "image_with_boxes = draw_bounding_boxes(image, boxes)\n",
    "\n",
    "from matplotlib import pyplot as plt\n",
    "plt.imshow(image_with_boxes.permute(1, 2, 0))\n",
    "plt.show()"
   ]
  }
 ],
 "metadata": {
  "kernelspec": {
   "display_name": "slide_tiling-0.1.0",
   "language": "python",
   "name": "python3"
  },
  "language_info": {
   "codemirror_mode": {
    "name": "ipython",
    "version": 3
   },
   "file_extension": ".py",
   "mimetype": "text/x-python",
   "name": "python",
   "nbconvert_exporter": "python",
   "pygments_lexer": "ipython3",
   "version": "3.10.18"
  }
 },
 "nbformat": 4,
 "nbformat_minor": 5
}
