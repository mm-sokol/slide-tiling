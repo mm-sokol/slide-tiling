{
 "cells": [
  {
   "cell_type": "code",
   "execution_count": 1,
   "id": "ffc302af",
   "metadata": {},
   "outputs": [
    {
     "data": {
      "text/plain": [
       "[WindowsPath('../data/adding/21_09830A1_19_ROI_0_0_3_cls1_6.txt')]"
      ]
     },
     "execution_count": 1,
     "metadata": {},
     "output_type": "execute_result"
    }
   ],
   "source": [
    "import os\n",
    "from pathlib import Path\n",
    "\n",
    "TXT_DATA = \"..\\\\data\\\\adding\"\n",
    "XML_ROOT = \"C:\\\\Users\\\\MS\\\\Desktop\\\\IDEAS\\\\Projekty\\\\CD34\\\\Dane\\\\CD34_zestaw2\"\n",
    "XML_OUT_ROOT = \"..\\\\data\\\\adding\\\\xmls\"\n",
    "\n",
    "\n",
    "txt_path = Path(TXT_DATA)\n",
    "# txt_files = [f for f in txt_path.glob(\"*.txt\")]\n",
    "txt_files = [Path(TXT_DATA, \"21_09830A1_19_ROI_0_0_3_cls1_6.txt\")]\n",
    "txt_files"
   ]
  },
  {
   "cell_type": "code",
   "execution_count": 2,
   "id": "0ab750d2",
   "metadata": {},
   "outputs": [
    {
     "name": "stdout",
     "output_type": "stream",
     "text": [
      "{'wsi': '21_09830A1_19', 'roi_id': '0', 'cls_id': '1', 'other': ['0', '3', '6']}\n",
      "WSI: 21_09830A1_19:\n",
      " - Before:  3 annotations\n",
      "[{'cls_id': 1.0, 'x_center': 0.474215, 'y_center': 0.603444, 'width': 0.378209, 'height': 0.385956}]\n",
      "Info:  {'wsi': '21_09830A1_19', 'roi_id': '0', 'cls_id': '1', 'other': ['0', '3', '6']}\n",
      "Empty DataFrame\n",
      "Columns: [Unnamed: 0, slide, patch_id, x_min, y_min, path, width, height]\n",
      "Index: []\n",
      "{'cls_id': 1.0, 'x_center': 0.474215, 'y_center': 0.603444, 'width': 0.378209, 'height': 0.385956}\n",
      "len:  0\n",
      "ROI width:  Series([], Name: width, dtype: float64)\n",
      " - After:  4 annotations\n"
     ]
    },
    {
     "data": {
      "text/plain": [
       "'5896.566400000003'"
      ]
     },
     "execution_count": 2,
     "metadata": {},
     "output_type": "execute_result"
    }
   ],
   "source": [
    "from asap_loader.annotation.objects.rectangle import Rectangle\n",
    "from asap_loader.annotation.objects.polygon import Polygon\n",
    "from asap_loader.annotation.objects.point import Point\n",
    "from asap_loader.annotation.objects.group import Group\n",
    "import xml.etree.ElementTree as ET\n",
    "import pandas as pd\n",
    "\n",
    "from adding_adnotations.adding_to_xml import (\n",
    "    update_xmls\n",
    ")\n",
    "\n",
    "annotation_groups = {\n",
    "    0: \"komorki\",\n",
    "    1: \"Mieloblasty\",\n",
    "    2: \"Megakariocyty\",\n",
    "    3: \"Atrefakty\",\n",
    "    4: \"Naczynia\",\n",
    "    5: \"Obszary\",\n",
    "}\n",
    "\n",
    "class_map = {\n",
    "    \"komorki\": 0,\n",
    "    \"Mieloblasty\": 1,\n",
    "    \"Megakariocyty\": 2,\n",
    "    \"Atrefakty\": 3,\n",
    "    \"Naczynia\": 4,\n",
    "    \"Obszary\": 5,\n",
    "}\n",
    "\n",
    "all_colour = \"#F4FA58\"\n",
    "annotation_colours = {\n",
    "    \"komorki\": \"#ffff00\",\n",
    "    \"Megakariocyty\": \"#ff0000\",\n",
    "    \"Mieloblasty\": \"#0055ff\",\n",
    "    \"Artefakty\": \"#ff00ff\",\n",
    "    \"Naczynia\": \"#0055ff\",\n",
    "    \"Obszary\": \"#ffaa00\",\n",
    "}\n",
    "\n",
    "roi_description_df = pd.read_csv(f\"{TXT_DATA}//ROI_description.csv\")\n",
    "\n",
    "update_xmls(\n",
    "    xml_src_dir=XML_ROOT,\n",
    "    xml_out_dir=XML_OUT_ROOT,\n",
    "    txt_files=txt_files,\n",
    "    roi_df=roi_description_df,\n",
    "    backup_files=False,\n",
    "    annotation_groups=annotation_groups,\n",
    "    annotation_colours=annotation_colours,\n",
    "    all_colour=all_colour,\n",
    "    verbose=True\n",
    ")\n",
    "x = roi_description_df[\n",
    "    (roi_description_df[\"slide\"] == \"21_09830A1_19\")\n",
    "    & (roi_description_df[\"patch_id\"] == 0)\n",
    "].iloc[0]\n",
    "\n",
    "str(x.width)"
   ]
  },
  {
   "cell_type": "code",
   "execution_count": 3,
   "id": "e62bbaaf",
   "metadata": {},
   "outputs": [
    {
     "data": {
      "text/plain": [
       "''"
      ]
     },
     "execution_count": 3,
     "metadata": {},
     "output_type": "execute_result"
    }
   ],
   "source": [
    "\"\""
   ]
  }
 ],
 "metadata": {
  "kernelspec": {
   "display_name": "slide_tiling-0.1.0",
   "language": "python",
   "name": "python3"
  },
  "language_info": {
   "codemirror_mode": {
    "name": "ipython",
    "version": 3
   },
   "file_extension": ".py",
   "mimetype": "text/x-python",
   "name": "python",
   "nbconvert_exporter": "python",
   "pygments_lexer": "ipython3",
   "version": "3.10.18"
  }
 },
 "nbformat": 4,
 "nbformat_minor": 5
}
