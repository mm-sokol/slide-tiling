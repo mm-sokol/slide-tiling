{
 "cells": [
  {
   "cell_type": "code",
   "execution_count": 1,
   "id": "ffc302af",
   "metadata": {},
   "outputs": [
    {
     "data": {
      "text/plain": [
       "[WindowsPath('../data/adding/21_09830A1_19_ROI_0_0_27_cls1_5.txt')]"
      ]
     },
     "execution_count": 1,
     "metadata": {},
     "output_type": "execute_result"
    }
   ],
   "source": [
    "import os\n",
    "from pathlib import Path\n",
    "\n",
    "TXT_DATA = \"..\\\\data\\\\adding\"\n",
    "XML_ROOT = \"C:\\\\Users\\\\MS\\\\Desktop\\\\IDEAS\\\\Projekty\\\\CD34\\\\Dane\\\\CD34_zestaw2\"\n",
    "\n",
    "\n",
    "txt_path = Path(TXT_DATA)\n",
    "txt_files = [f for f in txt_path.glob(\"*.txt\")]\n",
    "txt_files"
   ]
  },
  {
   "cell_type": "code",
   "execution_count": 2,
   "id": "0ab750d2",
   "metadata": {},
   "outputs": [
    {
     "name": "stdout",
     "output_type": "stream",
     "text": [
      "{'wsi': '21_09830A1_19', 'roi_id': '0', 'cls_id': '1', 'other': ['0', '27', '5']}\n",
      "3\n",
      "[{'cls_id': 1, 'x_center': 57, 'y_center': 122, 'width': 117, 'height': 160}]\n",
      "4\n"
     ]
    }
   ],
   "source": [
    "from asap_loader.annotation.objects.rectangle import Rectangle\n",
    "from asap_loader.annotation.objects.polygon import Polygon\n",
    "from asap_loader.annotation.objects.point import Point\n",
    "from asap_loader.annotation.objects.group import Group\n",
    "import xml.etree.ElementTree as ET\n",
    "\n",
    "from adding_adnotations.adding_to_xml import (\n",
    "    get_info_from_filename,\n",
    "    get_coord_txt_content,\n",
    "    get_next_annotation_number,\n",
    "    add_rectangle_annotation,\n",
    "    add_annotation_groups\n",
    ")\n",
    "\n",
    "annotation_groups = {\n",
    "    0: \"komorki\",\n",
    "    1: \"Mieloblasty\",\n",
    "    2: \"Megakariocyty\",\n",
    "    3: \"Atrefakty\",\n",
    "    4: \"Naczynia\",\n",
    "    5: \"Obszary\",\n",
    "}\n",
    "\n",
    "class_map = {\n",
    "    \"komorki\": 0,\n",
    "    \"Mieloblasty\": 1,\n",
    "    \"Megakariocyty\": 2,\n",
    "    \"Atrefakty\": 3,\n",
    "    \"Naczynia\": 4,\n",
    "    \"Obszary\": 5,\n",
    "}\n",
    "\n",
    "all_colour = \"#F4FA58\"\n",
    "annotation_colours = {\n",
    "    \"komorki\": \"#ffff00\",\n",
    "    \"Megakariocyty\": \"#ff0000\",\n",
    "    \"Mieloblasty\": \"#0055ff\",\n",
    "    \"Artefakty\": \"#ff00ff\",\n",
    "    \"Naczynia\": \"#0055ff\",\n",
    "    \"Obszary\": \"#ffaa00\",\n",
    "}\n",
    "\n",
    "for txt_file in txt_files:\n",
    "    info = get_info_from_filename(txt_file.name)\n",
    "\n",
    "    txt_contents = get_coord_txt_content(txt_file)\n",
    "\n",
    "    xml_filename = f\"{info['wsi']}.xml\"\n",
    "    xml_filepath = Path(XML_ROOT, xml_filename)\n",
    "\n",
    "    tree = ET.parse(xml_filepath)\n",
    "    root = tree.getroot()\n",
    "    \n",
    "    print( len(root.findall(\".//Annotation\")) )\n",
    "\n",
    "    print(txt_contents)\n",
    "\n",
    "    next_annotation_number = get_next_annotation_number(root)\n",
    "    annotations = root.findall(\".//Annotations\")\n",
    "    added_groups = set()\n",
    "\n",
    "    for annotation_info in txt_contents:\n",
    "\n",
    "        sth = add_rectangle_annotation(\n",
    "            root.find(\".//Annotations\"),\n",
    "            annotation_info,\n",
    "            next_annotation_number,\n",
    "            annotation_groups,\n",
    "            all_colour,\n",
    "        )\n",
    "        added_groups.add(annotation_groups[annotation_info[\"cls_id\"]])\n",
    "        next_annotation_number += 1\n",
    "        \n",
    "    add_annotation_groups(\n",
    "        root.find(\".//AnnotationGroups\"),\n",
    "        added_groups,\n",
    "        annotation_colours\n",
    "        )\n",
    "\n",
    "    print(len(root.findall(\".//Annotation\")))\n",
    "    ET.indent(tree, space=\"  \")\n",
    "    tree.write(f\"{TXT_DATA}//example.xml\", encoding=\"utf-8\", xml_declaration=True)"
   ]
  },
  {
   "cell_type": "code",
   "execution_count": null,
   "id": "e62bbaaf",
   "metadata": {},
   "outputs": [],
   "source": [
    "\"\""
   ]
  }
 ],
 "metadata": {
  "kernelspec": {
   "display_name": "slide_tiling-0.1.0",
   "language": "python",
   "name": "python3"
  },
  "language_info": {
   "codemirror_mode": {
    "name": "ipython",
    "version": 3
   },
   "file_extension": ".py",
   "mimetype": "text/x-python",
   "name": "python",
   "nbconvert_exporter": "python",
   "pygments_lexer": "ipython3",
   "version": "3.10.18"
  }
 },
 "nbformat": 4,
 "nbformat_minor": 5
}
